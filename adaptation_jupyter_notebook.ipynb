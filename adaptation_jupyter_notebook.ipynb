{
 "cells": [
  {
   "cell_type": "markdown",
   "id": "598ea278-7849-4150-8dca-f554416a6293",
   "metadata": {
    "tags": []
   },
   "source": [
    "## Description\n",
    "Main python script used to assess climate characteristics and adaptation measures in Pisor et al. (One Earth)<br>\n",
    "Sricpts by [Danielle Touma](danielletouma.com)<br>\n",
    "Run script in Jupyter Notebook or platform with *.ipynb capabilities"
   ]
  },
  {
   "cell_type": "markdown",
   "id": "7def19f1-99bd-43b1-bf22-de63a65e9a3a",
   "metadata": {},
   "source": [
    "### Dependencies\n",
    "Run calculate_percipitation_percentiles.ipynb first to download precipitation data and calculate percentile thresholds."
   ]
  },
  {
   "cell_type": "markdown",
   "id": "342311da-ac3f-4816-b6c1-e0b7745f1828",
   "metadata": {},
   "source": [
    "### External functions\n",
    "[find_runs.py](https://gist.github.com/alimanfoo/c5977e87111abe8127453b21204c1065)"
   ]
  },
  {
   "cell_type": "markdown",
   "id": "387e71f2-0521-43bc-9ac1-bd1e70c02d67",
   "metadata": {
    "tags": []
   },
   "source": [
    "## Main script"
   ]
  },
  {
   "cell_type": "markdown",
   "id": "68d30f03-0b3b-441e-8c69-cdd56c6a18cb",
   "metadata": {
    "jp-MarkdownHeadingCollapsed": true,
    "tags": []
   },
   "source": [
    "### Import packages/libraries"
   ]
  },
  {
   "cell_type": "code",
   "execution_count": null,
   "id": "2a0f40a6-3e12-4f47-98cb-56cdc9e80a17",
   "metadata": {
    "tags": []
   },
   "outputs": [],
   "source": [
    "# analysis packages\n",
    "import numpy as np\n",
    "import pandas as pd\n",
    "\n",
    "#netcdf packages\n",
    "import netCDF4\n",
    "from netCDF4 import Dataset \n",
    "import xarray as xr\n",
    "\n",
    "# plotting pacakges\n",
    "import matplotlib.pyplot as plt\n",
    "from matplotlib.patches import Polygon\n",
    "from matplotlib.lines import Line2D\n",
    "from matplotlib.colors import BoundaryNorm\n",
    "import matplotlib.ticker as mticker\n",
    "import matplotlib.patheffects as pe\n",
    "import cartopy.crs as ccrs\n",
    "import cartopy.feature as cfeature\n",
    "from cartopy.util import add_cyclic_point\n",
    "from mpl_toolkits.axes_grid1.inset_locator import inset_axes\n",
    "from matplotlib.ticker import MaxNLocator\n",
    "import seaborn as sns\n",
    "\n",
    "# other packages\n",
    "from calendar import monthrange\n",
    "import regionmask #using my-npl-ml environment\n",
    "import geopandas as gp"
   ]
  },
  {
   "cell_type": "markdown",
   "id": "5faef1b5-43d7-4e9a-83aa-d5edc26bbc19",
   "metadata": {
    "jp-MarkdownHeadingCollapsed": true,
    "tags": []
   },
   "source": [
    "### Basic set up"
   ]
  },
  {
   "cell_type": "markdown",
   "id": "b540b942-abc1-4461-a1b5-26f09bbebffe",
   "metadata": {},
   "source": [
    "Initialize directories where you can find the precipitation dataset (dir_month),\n",
    "the threshold dataset (dir_pxx), shapefile (dir_shp), and remittance data (dir_rem), and\n",
    "where figures should be output (dir_fig)."
   ]
  },
  {
   "cell_type": "code",
   "execution_count": null,
   "id": "3d19c27d-9b16-4244-bee5-d582b7d94257",
   "metadata": {},
   "outputs": [],
   "source": [
    "dir_pxx = \"/glade/scratch/detouma/adaptation/CHIRPS_monthly_pr/\"\n",
    "dir_month = \"/glade/scratch/detouma/adaptation/CHIRPS_monthly_pr/\"\n",
    "dir_fig = \"/glade/scratch/detouma/adaptation/figures/\"\n",
    "dir_shp =  \"/glade/scratch/detouma/adaptation/shapefiles/\"\n",
    "dir_rem = \"/glade/scratch/detouma/adaptation/data/\""
   ]
  },
  {
   "cell_type": "markdown",
   "id": "35bc68ba-1cc4-4171-af5d-ba4de000df29",
   "metadata": {},
   "source": [
    "Initialize variables that describe the time dimension of your precipitation dataset."
   ]
  },
  {
   "cell_type": "code",
   "execution_count": null,
   "id": "5d27f983-a365-4803-98bc-d3603c317b1b",
   "metadata": {},
   "outputs": [],
   "source": [
    "year0 = 1981\n",
    "year1 = 2021\n",
    "nyears = year1-year0+1\n",
    "years = np.arange(year0,year1+1,1)\n",
    "ntime = nyears*12\n",
    "survey_year = 2009"
   ]
  },
  {
   "cell_type": "markdown",
   "id": "4121acb4-619a-4317-8eb0-0f9307b4292e",
   "metadata": {},
   "source": [
    "If your precipitation dataset does not have a date variable, create one for ease of indexing.\n",
    "Otherwise, read in the date variable from your precipitation dataset"
   ]
  },
  {
   "cell_type": "code",
   "execution_count": null,
   "id": "35fbcbf9-f526-494f-b074-14356458f9a5",
   "metadata": {},
   "outputs": [],
   "source": [
    "date = np.zeros(ntime,dtype=int)\n",
    "date_frac = np.zeros(ntime,dtype=float)\n",
    "for yy in range(0,nyears,1):\n",
    "    date[yy*12:(yy+1)*12] = (year0+yy)*100+np.arange(1,13,1)\n",
    "    date_frac[yy*12:(yy+1)*12] = (year0+yy)+np.arange(0,12,1)/12\n",
    "\n",
    "yyyy = np.floor(date_frac)"
   ]
  },
  {
   "cell_type": "markdown",
   "id": "b6771060-3d27-4e9e-b793-3be9e013c384",
   "metadata": {
    "tags": []
   },
   "source": [
    "### Reading in climate variables and thresholds"
   ]
  },
  {
   "cell_type": "markdown",
   "id": "3ff97e32-290d-4419-a8ad-9fadb2b630f0",
   "metadata": {},
   "source": [
    "Read in file with pixel-relevant percentile thresholds"
   ]
  },
  {
   "cell_type": "code",
   "execution_count": null,
   "id": "31a6bb98-6688-45c6-b030-c8d4381f260d",
   "metadata": {},
   "outputs": [],
   "source": [
    "file_pxx = dir_pxx+'CHIRPS_'+str(year0)+'-'+str(year1)+'_pr_monthly_percentiles_africa.nc'\n",
    "xr_pxx = xr.open_dataset(file_pxx)\n",
    "pxx_list = np.array(xr_pxx['pxx'])\n",
    "n_pxx = len(pxx_list)\n",
    "lat = xr_pxx['lat']\n",
    "lon = xr_pxx['lon']\n",
    "nlat = len(lat)\n",
    "nlon = len(lon)\n",
    "pr_pxx = np.array(xr_pxx['pr'])"
   ]
  },
  {
   "cell_type": "markdown",
   "id": "705a2858-216d-46dc-8138-d00fe4b36a25",
   "metadata": {},
   "source": [
    "Read in monthly precipitation dataset and subset for lats/lons if needed"
   ]
  },
  {
   "cell_type": "code",
   "execution_count": null,
   "id": "914f22de-30fa-4fe3-a230-9cc96b82451d",
   "metadata": {},
   "outputs": [],
   "source": [
    "file_pr = dir_month+'chirps_monthly_dataset.nc'\n",
    "xr_pr = Dataset(file_pr,'r')\n",
    "lat0 = xr_pr['latitude'][:]\n",
    "lon0 = xr_pr['longitude'][:]\n",
    "lat_inds = np.where((lat0>=-40)&(lat0<=40))[0]\n",
    "lon_inds = np.where((lon0>=-20)&(lon0<=60))[0]\n",
    "pr = xr_pr['precip'][0:ntime,lat_inds,lon_inds]\n",
    "pr_month = np.reshape(pr,newshape=(int(ntime/12),12,nlat,nlon))"
   ]
  },
  {
   "cell_type": "markdown",
   "id": "de557fab-9b6d-4e77-b0ad-769294761416",
   "metadata": {
    "jp-MarkdownHeadingCollapsed": true,
    "tags": []
   },
   "source": [
    "### FIGURE 1"
   ]
  },
  {
   "cell_type": "markdown",
   "id": "aa2c50fd-8354-4228-9844-16e2b50e48a1",
   "metadata": {},
   "source": [
    "Calculate percentiles for plotting Figure 1"
   ]
  },
  {
   "cell_type": "code",
   "execution_count": null,
   "id": "770c8e95-0e67-45d5-b6a4-6cdfdd15c1db",
   "metadata": {},
   "outputs": [],
   "source": [
    "pr_percentile_month = np.full(fill_value=-999.0,shape=pr_month.shape)\n",
    "for mm in range(0,12,1):\n",
    "    for ii in range(1000,1100,1):\n",
    "        for jj in range(300,400,1):\n",
    "            for yy in range(0,nyears,1):\n",
    "                n_below = np.sum(pr_month[:,mm,ii,jj]<=pr_month[yy,mm,ii,jj])\n",
    "                pr_percentile_month[yy,mm,ii,jj] = n_below/nyears*100\n",
    "                \n",
    "pr_percentile = np.reshape(pr_percentile_month,newshape=(ntime,nlat,nlon))"
   ]
  },
  {
   "cell_type": "markdown",
   "id": "0d9a614b-f335-4df1-a502-600c5b48980d",
   "metadata": {},
   "source": [
    "Set up example parameters and process climate data"
   ]
  },
  {
   "cell_type": "code",
   "execution_count": null,
   "id": "c780f584-4f98-4fe1-b53f-798847f832b6",
   "metadata": {},
   "outputs": [],
   "source": [
    "ex_year0 = 1991 #start year of period\n",
    "ex_year1 = 2009 #end year of period\n",
    "ex_year_inds = np.where((yyyy>=ex_year0)&(yyyy<=ex_year1))[0]\n",
    "ex_lat_ind = 1050\n",
    "ex_lon_ind = 350\n",
    "\n",
    "nyears_window = 5\n",
    "\n",
    "pr_perc_example_mov_avg_all = pd.Series(pr_percentile[:,ex_lat_ind,ex_lon_ind]).rolling(window=nyears_window*12, center = True).mean()\n",
    "pr_perc_example_mov_std_all = pd.Series(pr_percentile[:,ex_lat_ind,ex_lon_ind]).rolling(window=nyears_window*12, center = True).std()\n",
    "pr_perc_example_mov_avg = pr_perc_example_mov_avg_all[ex_year_inds]\n",
    "pr_perc_example_mov_std = pr_perc_example_mov_std_all[ex_year_inds]\n",
    "pr_perc_example_mov_lo = pr_perc_example_mov_avg - pr_perc_example_mov_std\n",
    "pr_perc_example_mov_hi = pr_perc_example_mov_avg + pr_perc_example_mov_std\n",
    "\n",
    "pr_perc_example = pr_percentile[ex_year_inds,ex_lat_ind,ex_lon_ind]\n",
    "\n",
    "date_frac_example = date_frac[ex_year_inds]\n",
    "\n",
    "drought_points= np.where((pr_perc_example<=10))[0]\n",
    "wet_points = np.where(pr_perc_example>=90)[0]\n"
   ]
  },
  {
   "cell_type": "markdown",
   "id": "0707053d-8216-4f79-9f3b-8514d3cfd21b",
   "metadata": {},
   "source": [
    "Plot Figure 1 - additional labeling was implemented using Adobe Illustrator"
   ]
  },
  {
   "cell_type": "code",
   "execution_count": null,
   "id": "c23585c6-1227-4512-9be6-881c86a8302b",
   "metadata": {},
   "outputs": [],
   "source": [
    "fig1 = plt.figure(figsize=(12,4))\n",
    "plt.plot(date_frac_example,pr_perc_example,color='grey',lw=0.75) # monthly time series\n",
    "plt.plot(date_frac_example[drought_points], pr_perc_example[drought_points], 'ro') # drought months\n",
    "plt.plot(date_frac_example[wet_points], pr_perc_example[wet_points], 'bo') # wet months\n",
    "plt.fill_between(date_frac_example,pr_perc_example_mov_lo,pr_perc_example_mov_hi,color='gray',alpha=0.2) # 5 year moving st. dev.\n",
    "plt.plot(date_frac_example,pr_perc_example_mov_avg,color='gray',lw=3) # 5 year moving mean\n",
    "\n",
    "plt.xticks(np.arange(ex_year0,ex_year1+2,1),np.arange(ex_year0,ex_year1+2,1)) # fix tick labels\n",
    "plt.axhline(10,color='red') # 10th percentile\n",
    "plt.axhline(90, color='blue') # 90the percentiles\n",
    "\n",
    "plt.title('Percentiles of monthly precipitation for '+str(np.round(lat[1050].data,2))+'N, '+str(np.round(lon[350].data,2))+'E')\n",
    "plt.savefig(dir_fig+'percentiles_timeseries_example_3_raw.pdf')"
   ]
  },
  {
   "cell_type": "markdown",
   "id": "ce0788c5-f474-49fd-855d-eeaf9cec5f65",
   "metadata": {
    "jp-MarkdownHeadingCollapsed": true,
    "tags": []
   },
   "source": [
    "### FIGURE 3"
   ]
  },
  {
   "cell_type": "markdown",
   "id": "0c538512-ebef-4bd4-8321-19425ce874aa",
   "metadata": {
    "jp-MarkdownHeadingCollapsed": true,
    "tags": []
   },
   "source": [
    "#### Read in country shapefiles"
   ]
  },
  {
   "cell_type": "markdown",
   "id": "1e0ab23e-9baf-4253-b8d1-389de47a73b2",
   "metadata": {},
   "source": [
    "Read in shape files for administrative regions in Burkina Faso and zoom into Burkina Faso"
   ]
  },
  {
   "cell_type": "code",
   "execution_count": null,
   "id": "bc5a008a-177e-44ea-af09-43edbdb08d41",
   "metadata": {},
   "outputs": [],
   "source": [
    "adm = 2 # choose level of administrative regions\n",
    "adm_files = ['BFA_adm/BFA_adm0.shp','BFA_adm/BFA_adm1.shp','BFA_adm/BFA_adm2.shp','BFA_adm/BFA_adm3.shp']\n",
    "gp_file_adm = gp.read_file(dir_shp+adm_files[adm])\n",
    "\n",
    "adm_mask = regionmask.mask_geopandas(gp_file_adm, lon, lat)\n",
    "adm_regions = regionmask.from_geopandas(gp_file_adm, \n",
    "                                        names=\"NAME_2\", abbrevs=\"_from_name\", name=\"Burkina_Faso_Adm_\"+str(adm))\n",
    "n_adms = len(adm_regions)\n",
    "\n",
    "# choose lat/lon limits for plotting and analysis purposes. This helps reduce computational time.\n",
    "burkina_lon_lims = [-6, 2.75]\n",
    "burkina_lat_lims = [8.9, 15.5]\n",
    "\n",
    "# find indices of limits - will improve code using xarray package. Coming soon.\n",
    "lat_floor = np.floor(lat)\n",
    "lat_ceil = np.ceil(lat)\n",
    "lon_floor = np.floor(lon)\n",
    "lon_ceil = np.ceil(lon)\n",
    "lat_ind0 = np.where(np.floor(burkina_lat_lims[0])==lat_floor)[0][0]\n",
    "lat_ind1 = np.where(np.ceil(burkina_lat_lims[1])==lat_ceil)[0][-1]\n",
    "lon_ind0 = np.where(np.floor(burkina_lon_lims[0])==lon_floor)[0][0]\n",
    "lon_ind1 = np.where(np.ceil(burkina_lon_lims[1])==lon_ceil)[0][-1]\n"
   ]
  },
  {
   "cell_type": "markdown",
   "id": "66be33bc-7729-45db-b669-8f9ad0e6643a",
   "metadata": {
    "tags": []
   },
   "source": [
    "#### Climate data processing"
   ]
  },
  {
   "cell_type": "markdown",
   "id": "1f463f35-9a7b-43e9-9a99-e0b6940a4931",
   "metadata": {},
   "source": [
    "Create a binary variable storing whether or not a pixel is below a certain drought threshold (1 = drought, 0 = no drought]). We use the 10th percentile (xx=2) in this example."
   ]
  },
  {
   "cell_type": "code",
   "execution_count": null,
   "id": "cfbe1e31-9713-4481-a18d-f3067ba22f3f",
   "metadata": {
    "tags": []
   },
   "outputs": [],
   "source": [
    "xx = 2 # index of pxx_list where the 10th percentile located.\n",
    "\n",
    "pr_drought_bin = np.zeros((int(ntime/12),12,nlat,nlon), dtype=int) # nyears x nmonths x nlat x nlon integer dataset filled with zeros\n",
    "for yy in range(0,nyears,1):\n",
    "    #print(years[yy], end=';') # uncomment this line to print progress through loop\n",
    "    # find indices of year[yy] that are undergoing drought. drought_inds.shape = (nmonths x nlat x nlon)\n",
    "    drought_inds = np.where((pr_month[yy,:,:,:]<=pr_pxx[xx,:,:,:]) & (pr_month[yy,:,:,:]>=0))\n",
    "    # set those indices to 1\n",
    "    pr_drought_bin[yy,drought_inds[0],drought_inds[1],drought_inds[2]] = 1\n",
    "# end of yearly loop\n",
    "\n",
    "#reshape to make one time series for each lat/lon (3d array)\n",
    "pr_drought_bin_3d = np.reshape(pr_drought_bin,newshape=(ntime,nlat,nlon))"
   ]
  },
  {
   "cell_type": "markdown",
   "id": "3529931a-abcf-4088-9909-f4b6b1d607c9",
   "metadata": {},
   "source": [
    "Create a variable storing the *departure* (*i<sub>1</sub>* and *i<sub>2</sub>* in Figure 1) as the difference between the precipitation and the drought threshold for each pixel and month that is in drought. "
   ]
  },
  {
   "cell_type": "code",
   "execution_count": null,
   "id": "9679e757-1665-434a-90d7-302b313c4f3e",
   "metadata": {},
   "outputs": [],
   "source": [
    "# nyears x nmonths x nlat x nlon float dataset filled with a large positive number (1e36). For a flood threshold, use a large negative number.\n",
    "pr_drought_departure = np.full(fill_value=1e36, shape = (int(ntime/12),12,nlat,nlon), dtype=float)\n",
    "for yy in range(0,nyears,1):\n",
    "    # print(years[yy], end=';') # uncomment this line to print progress through loop\n",
    "    # find indices of year[yy] that are undergoing drought. drought_inds.shape = (nmonths x nlat x nlon)\n",
    "    drought_inds = np.where((pr_month[yy,:,:,:]<=pr_pxx[xx,:,:,:]) & (pr_month[yy,:,:,:]>=0))\n",
    "    # calculate precipitation amount below threshold for each drought month/location\n",
    "    pr_drought_departure[yy,drought_inds[0],drought_inds[1],drought_inds[2]] = pr_month[yy,drought_inds[0],drought_inds[1],drought_inds[2]] - \\\n",
    "                                                                           pr_pxx[xx,drought_inds[0],drought_inds[1],drought_inds[2]]\n",
    "# end of yearly loop\n",
    "\n",
    "# mask out months/locations where no drought occurred. i.e., where pr_drought_intensity is still equal to 1e36. \n",
    "pr_drought_departure = np.ma.masked_array(pr_drought_departure, mask=(pr_drought_departure==1e36))"
   ]
  },
  {
   "cell_type": "markdown",
   "id": "c4a775df-a9ab-4cd9-bb99-3003b80a1cd0",
   "metadata": {},
   "source": [
    "Find one or more consecutive months with drought. drought_onsets = 1 when a drought starts over each grid point. drought_lengths = corresponding drought duration of that drought onset"
   ]
  },
  {
   "cell_type": "code",
   "execution_count": null,
   "id": "27f49811-c68c-469a-8a89-bc032ec6487f",
   "metadata": {
    "tags": []
   },
   "outputs": [],
   "source": [
    "# First, find locations where no precipitation occurs at all.\n",
    "# Create a mask and set = 1 in these locations.\n",
    "norain_inds = np.where(np.sum(pr,axis=0)==0)\n",
    "norain_mask = np.zeros((nlat,nlon),dtype=int)\n",
    "norain_mask[norain_inds[0],norain_inds[1]] = 1\n",
    "norain_mask_3d = np.broadcast_to(norain_mask,pr.shape)\n",
    "norain_mask_4d = np.broadcast_to(norain_mask,pr_month.shape)"
   ]
  },
  {
   "cell_type": "code",
   "execution_count": null,
   "id": "0c6c9b45-08ab-4d5a-98fe-04adb1045ca1",
   "metadata": {},
   "outputs": [],
   "source": [
    "from find_runs import * # function found in find_runs.py\n",
    "\n",
    "drought_onsets = np.zeros(pr_drought_bin_3d.shape,dtype=float)\n",
    "drought_lengths = np.zeros(pr_drought_bin_3d.shape,dtype=float)\n",
    "\n",
    "for ii in range(lat_ind0,lat_ind1+1,1): # loop through lats\n",
    "    # print(str(ii+1)+'/'+str(nlat), end=';') # uncomment this line to print progress through loop\n",
    "    for jj in range(lon_ind0,lon_ind1+1,1): # loop through lons\n",
    "        # check if there are any drought months and if the grid point has no rain at all\n",
    "        if ((np.sum(pr_drought_bin_3d[:,ii,jj])>0)&(norain_mask[ii,jj]==0)):\n",
    "            v, s, l = find_runs(pr_drought_bin_3d[:,ii,jj])\n",
    "            # v = value of run. in our case, 1 = drought, 0 = no drought\n",
    "            # s = index of run starts\n",
    "            s_droughts = s[np.where(v==1)] # find indices of drought starts (i.e., v == 1)\n",
    "            # l = length of runs\n",
    "            l_droughts = l[np.where(v==1)] # find lengths of drought runs (i.e., v == 1)\n",
    "            drought_onsets[s_droughts,ii,jj] = 1\n",
    "            drought_lengths[s_droughts,ii,jj] = l_droughts\n",
    "            \n",
    "drought_lengths_4d = np.reshape(drought_lengths, newshape = (nyears,12,nlat,nlon))\n",
    "drought_lengths_4d = np.ma.masked_equal(drought_lengths_4d,0)\n",
    "\n",
    "drought_onsets_4d = np.reshape(drought_onsets, newshape = (nyears,12,nlat,nlon))"
   ]
  },
  {
   "cell_type": "markdown",
   "id": "5785c9c0-9254-4d0a-b036-4e336ee49265",
   "metadata": {},
   "source": [
    "For each drought run/event, find the magnitude, severity, and intensity of that drought using the *departure* (*i<sub>1</sub>* and *i<sub>2</sub>* in Figure 1)."
   ]
  },
  {
   "cell_type": "code",
   "execution_count": null,
   "id": "4c6d43b0-ba4e-45bf-9f82-004654096984",
   "metadata": {},
   "outputs": [],
   "source": [
    "drought_severity = np.full(fill_value = 999.0, shape=pr_drought_bin_3d.shape,dtype=float) \n",
    "drought_magnitude = np.full(fill_value = 999.0, shape=pr_drought_bin_3d.shape,dtype=float)\n",
    "drought_intensity = np.full(fill_value = 999.0, shape=pr_drought_bin_3d.shape,dtype=float)\n",
    "\n",
    "drought_departure_3d = np.reshape(pr_drought_departure,pr_drought_bin_3d.shape)\n",
    "\n",
    "for ii in range(lat_ind0,lat_ind1+1,1): # loop through lats\n",
    "    # print(str(ii+1)+'/'+str(nlat), end=';') # uncomment this line to print progress through loop\n",
    "    for jj in range(lon_ind0,lon_ind1+1,1): # loop through lons\n",
    "        start_inds = np.where(drought_onsets[:,ii,jj]==1)[0]\n",
    "        if len(start_inds)>0:\n",
    "            for ss in start_inds:\n",
    "                drought_severity[ss,ii,jj] = np.ma.sum(drought_departure_3d[ss:ss+int(drought_lengths[ss,ii,jj]),ii,jj])\n",
    "                drought_magnitude[ss,ii,jj] = np.ma.min(drought_departure_3d[ss:ss+int(drought_lengths[ss,ii,jj]),ii,jj])\n",
    "                drought_intensity[ss,ii,jj] = np.ma.mean(drought_departure_3d[ss:ss+int(drought_lengths[ss,ii,jj]),ii,jj])\n",
    "\n",
    "#mask any places where no drought occured\n",
    "drought_severity = np.ma.masked_equal(drought_severity,999.0)\n",
    "drought_magnitude = np.ma.masked_equal(drought_magnitude,999.0)\n",
    "drought_intensity = np.ma.masked_equal(drought_intensity,999.0)\n",
    "\n",
    "# reshape to a monthly array\n",
    "drought_severity_4d = drought_severity.reshape((nyears,12,nlat,nlon))\n",
    "drought_magnitude_4d = drought_magnitude.reshape((nyears,12,nlat,nlon))\n",
    "drought_intensity_4d = drought_intensity.reshape((nyears,12,nlat,nlon))\n"
   ]
  },
  {
   "cell_type": "markdown",
   "id": "baa8eddf-11c5-49ba-b0c4-e271e3a39841",
   "metadata": {},
   "source": [
    "For each pixel, find\n",
    "  * annual drought frequency,\n",
    "  * annual average drought intensity,\n",
    "  * annual drought duration,\n",
    "  * annual drought severity, and\n",
    "  * annual drought magnitude."
   ]
  },
  {
   "cell_type": "code",
   "execution_count": null,
   "id": "658ea58a-92e2-42e6-9040-57b5b453583a",
   "metadata": {},
   "outputs": [],
   "source": [
    "yearly_drought_frequency = np.ma.sum(drought_onsets_4d,axis=1)\n",
    "yearly_drought_intensity = np.ma.mean(drought_intensity_4d,axis=1)\n",
    "yearly_drought_duration = np.ma.mean(drought_lengths_4d, axis=1)\n",
    "yearly_drought_severity = np.ma.mean(drought_severity_4d, axis=1)\n",
    "yearly_drought_magnitude = np.ma.mean(drought_magnitude_4d, axis=1)"
   ]
  },
  {
   "cell_type": "markdown",
   "id": "13f6dcf6-c250-4f84-8920-1ddf25bc1fea",
   "metadata": {},
   "source": [
    "For each pixel, find dispersion using metric from [Mailier et al. (2006)](https://journals.ametsoc.org/view/journals/mwre/134/8/mwr3160.1.xml)"
   ]
  },
  {
   "cell_type": "code",
   "execution_count": null,
   "id": "bb5d63cd-bace-4925-81a2-4ad5f49c3c52",
   "metadata": {},
   "outputs": [],
   "source": [
    "mean_drought_frequency = np.ma.mean(yearly_drought_frequency,axis=0)\n",
    "var_drought_frequency = np.ma.var(yearly_drought_frequency,axis=0)\n",
    "all_drought_dispersion = var_drought_frequency/mean_drought_frequency-1"
   ]
  },
  {
   "cell_type": "markdown",
   "id": "b5e9530a-6bcb-40d6-898a-1d9619fb4362",
   "metadata": {},
   "source": [
    "Select period(s) of interest to calculate frequency, duration, intensity, magnitude, severity, and dispersion and plot. This is the data that is plotted in Figure 3."
   ]
  },
  {
   "cell_type": "code",
   "execution_count": null,
   "id": "e1567222-f11d-475c-b4dc-e1c17bce7142",
   "metadata": {},
   "outputs": [],
   "source": [
    "period_year0 = [1991, 2005] #start year of period\n",
    "period_year1 = [2009, 2009] #end year of period\n",
    "nperiods = len(period_year0) # number of periods\n",
    "\n",
    "# create arrays to store period averages\n",
    "period_drought_intensity = np.full(fill_value=-999.0,shape=(nperiods,nlat,nlon))\n",
    "period_drought_duration = np.full(fill_value=-999.0,shape=(nperiods,nlat,nlon))\n",
    "period_drought_frequency = np.full(fill_value=-999.0,shape=(nperiods,nlat,nlon))\n",
    "period_drought_severity = np.full(fill_value=-999.0,shape=(nperiods,nlat,nlon))\n",
    "period_drought_magnitude = np.full(fill_value=-999.0,shape=(nperiods,nlat,nlon))\n",
    "period_drought_dispersion = np.full(fill_value=-999.0,shape=(nperiods,nlat,nlon))\n",
    "\n",
    "for pp in range(0,nperiods,1):\n",
    "    period_year_inds = np.where((years>=period_year0[pp])&(years<=period_year1[pp]))[0]\n",
    "    period_drought_intensity[pp,:,:] = np.ma.mean(yearly_drought_intensity[period_year_inds,:,:], axis=0)\n",
    "    period_drought_duration[pp,:,:] = np.ma.mean(yearly_drought_duration[period_year_inds,:,:], axis=0)\n",
    "    period_drought_frequency[pp,:,:] = np.ma.mean(yearly_drought_frequency[period_year_inds,:,:], axis=0)\n",
    "    period_drought_severity[pp,:,:] = np.ma.mean(yearly_drought_severity[period_year_inds,:,:], axis=0)\n",
    "    period_drought_magnitude[pp,:,:] = np.ma.mean(yearly_drought_magnitude[period_year_inds,:,:], axis=0)\n",
    "    period_drought_frequency_var = np.ma.var(yearly_drought_frequency[period_year_inds,:,:], axis=0)\n",
    "    period_drought_dispersion[pp,:,:] = period_drought_frequency_var/period_drought_frequency[pp,:,:] - 1"
   ]
  },
  {
   "cell_type": "markdown",
   "id": "af2bb09d-b0fb-4333-8bb1-e5e40f5846eb",
   "metadata": {
    "tags": []
   },
   "source": [
    "#### Remittance data processing"
   ]
  },
  {
   "cell_type": "markdown",
   "id": "1a866a95-dd39-4e1d-a5da-2f81474abe25",
   "metadata": {},
   "source": [
    "Read in remittance data which will be plotted on top of the climate characteristics. For our example shown in Figure 3, we downloaded [Migration and Remittance Survey data from the World Bank](https://microdata.worldbank.org/index.php/catalog/mrs/), which we then subset for Burkina Faso."
   ]
  },
  {
   "cell_type": "code",
   "execution_count": null,
   "id": "5baa9fbf-455b-41c8-823a-25f17a5f22e5",
   "metadata": {},
   "outputs": [],
   "source": [
    "meso_df = pd.read_csv(dir_rem+'remittance data_meso.csv') \n",
    "burkina_df = meso_df[meso_df['country']=='burkina'] #subset burkina faso"
   ]
  },
  {
   "cell_type": "markdown",
   "id": "96a2023b-ebc0-48ca-8a50-c7ce38191256",
   "metadata": {},
   "source": [
    "Extract number of total remittances for each region based on shape file of administrative regions and the coordinates of the remittance data. In this dataset, remittances are coded as 1 (yes) or 0 (no)."
   ]
  },
  {
   "cell_type": "code",
   "execution_count": null,
   "id": "b7945249-a00e-4326-8ee7-7c44ad68e48d",
   "metadata": {},
   "outputs": [],
   "source": [
    "# create a geodataframe for the remittance data with lat/lons\n",
    "rem_loc = gp.GeoDataFrame(burkina_df, geometry=gp.points_from_xy(burkina_df.long,burkina_df.lat)) \n",
    "# add a 'region' column and find region name based on lat/lons\n",
    "rem_loc['region'] = ''\n",
    "for rr in range(gp_file_adm.shape[0]):\n",
    "    pip = rem_loc.within(gp_file_adm.loc[rr, 'geometry'])\n",
    "    if pip.sum() > 0:\n",
    "        rem_loc.loc[pip, 'region'] = gp_file_adm.loc[rr, 'NAME_'+str(adm)]\n",
    "\n",
    "# count the total number of remittances for each region (=1) and create a dataframe\n",
    "n_remit_df = rem_loc.groupby(['region','remit']).count().reset_index()[['region','remit','house']]\n",
    "# find the percent of remittances by dividing the total number of questionaires ('house') in each region\n",
    "n_remit_df['percent'] = n_remit_df['house']/n_remit_df.groupby('region')['house'].transform('sum')*100\n",
    "\n",
    "# find the regions and number of regions represented in the remittance dataset\n",
    "rem_regions = rem_loc['region'].unique()\n",
    "n_rem_regions = len(rem_regions)"
   ]
  },
  {
   "cell_type": "markdown",
   "id": "4923250a-94f4-4410-9b26-54cd60083c87",
   "metadata": {},
   "source": [
    "For plotting purpose, find a \"representative point\" at which the pie charts of remittance data will be plotted for each region."
   ]
  },
  {
   "cell_type": "code",
   "execution_count": null,
   "id": "25f7b143-328a-49cf-acfc-ef7dbb5dad03",
   "metadata": {},
   "outputs": [],
   "source": [
    "gp_file_adm['x_rep'] = gp_file_adm.representative_point().x\n",
    "gp_file_adm['y_rep'] = gp_file_adm.representative_point().y"
   ]
  },
  {
   "cell_type": "markdown",
   "id": "dcad3371-54c4-47e6-b5be-17fab63b9507",
   "metadata": {
    "jp-MarkdownHeadingCollapsed": true,
    "tags": []
   },
   "source": [
    "#### Plotting Figure 3"
   ]
  },
  {
   "cell_type": "markdown",
   "id": "3dee429c-6007-4770-818e-f6144f0850a3",
   "metadata": {},
   "source": [
    "Set plotting features for the climate characteristics"
   ]
  },
  {
   "cell_type": "code",
   "execution_count": null,
   "id": "121d26e3-a8ef-4df7-ba12-eaa163354cad",
   "metadata": {},
   "outputs": [],
   "source": [
    "# text formatting for the regionmask country border plotting (basically, do not show any text)\n",
    "text_kws = dict(bbox=dict(color=\"none\"),color=\"none\")\n",
    "# line formatting for regionmask country border plotting\n",
    "line_kws=dict(color='black',linewidth=1.5)\n",
    "\n",
    "# contour levels, color map, and whether the color bar should extend for plotting - change depending on characteristic\n",
    "dims  = ['frequency','duration','intensity','magnitude','severity','dispersion']\n",
    "dims_long = ['Frequency (# of events)', 'Duration (months)','Intensity (mm/month)',\n",
    "             'Magnitude (mm/month)', 'Severity (mm/drought)', 'Dispersion']\n",
    "clevs = [np.arange(1,2.1,0.1),np.arange(1,2.1,0.1),np.arange(-12,0.1,1),\n",
    "         np.arange(-12,0.1,1),np.arange(-12,0.1,1),np.arange(-1.4,1.5,0.1)]\n",
    "cmap  = ['Reds','Purples','YlOrBr_r','YlOrBr_r','YlOrBr_r','RdYlBu_r']\n",
    "extend = ['max','max','min','min','min','both'] #'min' #'both'"
   ]
  },
  {
   "cell_type": "markdown",
   "id": "ec5ee13c-0ab5-489a-81e7-0e416981b6a8",
   "metadata": {},
   "source": [
    "Plot frequency, duration, intensity, magnitude, severity, and dispersion for period of interest."
   ]
  },
  {
   "cell_type": "code",
   "execution_count": null,
   "id": "4c2bcf07-9901-4dba-9b31-9a964386e397",
   "metadata": {},
   "outputs": [],
   "source": [
    "pp = 0 # only plot for first period\n",
    "for dd in range(0,len(dims),1): #loop through each climate dimension\n",
    "    print(dims[dd])\n",
    "    fig = plt.figure(figsize=(11,8.5)) # create a figure\n",
    "    ax = plt.axes(projection=ccrs.PlateCarree()) # set the projection of the map\n",
    "    dim_dd = eval('period_drought_'+dims[dd]) # variable name for the dimension\n",
    "    levels = MaxNLocator(nbins=20).tick_values(np.min(dim_dd[pp,lat_ind0:lat_ind1,lon_ind0:lon_ind1]), # create color bar  contour levels\n",
    "                                               np.max(dim_dd[pp,lat_ind0:lat_ind1,lon_ind0:lon_ind1]))\n",
    "    cmap_d = plt.colormaps[cmap[dd]] # create color map for dimension\n",
    "    norm = BoundaryNorm(levels, ncolors=cmap_d.N, clip=True) # normalization of the color map\n",
    "    cs = ax.pcolormesh(lon,lat,eval('period_drought_'+dims[dd]+'[pp,:,:]'), # plot the climate dimension as a colormesh to see granularity of dataset\n",
    "                       cmap=cmap_d, norm=norm,\n",
    "                        transform = ccrs.PlateCarree())\n",
    "    ax.add_feature(cfeature.BORDERS,edgecolor='grey') # add country borders\n",
    "    ax.coastlines(color='grey') # add coastlines\n",
    "    ax.set_extent([burkina_lon_lims[0], burkina_lon_lims[1], # zoom in the burkina faso\n",
    "                   burkina_lat_lims[0], burkina_lat_lims[1]],\n",
    "                  crs=ccrs.PlateCarree())\n",
    "    ax.set_title(dims_long[dd] + ' ('+str(period_year0[pp])+'-'+str(period_year1[pp])+')', fontsize = 24) # title of figure\n",
    "    adm_regions.plot_regions(ax=ax, add_label=False) # add administrative region borders\n",
    "    cax = fig.add_axes([ax.get_position().x1+0.01,ax.get_position().y0,0.02,ax.get_position().height]) # add axis for color bar\n",
    "    cbar = plt.colorbar(cs, cax=cax) # plot the color bar\n",
    "    cbar.ax.tick_params(labelsize=20) # set the color bar ticks/levels\n",
    "    for rr in range(0,n_rem_regions,1): #loop through regions with remittance data to plot remittance data as pie charts\n",
    "        reg_name = rem_regions[rr] \n",
    "        lonr,latr = gp_file_adm['y_rep'][rr], gp_file_adm['x_rep'][rr] # set location of pie chart plot\n",
    "        ax_sub = inset_axes(ax, width=0.55, height=0.55, loc=10, #add plot axis to for pie chart\n",
    "                            bbox_to_anchor=(latr,lonr), bbox_transform=ax.transData)\n",
    "        rr_perc_0 = n_remit_df[(n_remit_df['region']==reg_name)&(n_remit_df['remit']==0)]['percent'].values[0] # find \"no\" percent for region\n",
    "        rr_perc_1 = n_remit_df[(n_remit_df['region']==reg_name)&(n_remit_df['remit']==1)]['percent'].values[0] # find \"yes\" percent for region\n",
    "        rr_n_tot = np.sum(n_remit_df[(n_remit_df['region']==reg_name)]['house']) # find total number of remittances for region\n",
    "        wedges, texts = ax_sub.pie([rr_perc_0, rr_perc_1], colors= ['white','grey'], startangle=90, # create pie chart\n",
    "                    wedgeprops={'edgecolor': 'black','linewidth': 2, 'alpha':0.7})\n",
    "        #t = ax_sub.text(x=0, y=1.5, s = str(rr_n_tot), ha='center', va='bottom', fontsize=14) # uncomment these lines if you would like to plot number of\n",
    "        #t.set_bbox(dict(facecolor='white', alpha=0.7, edgecolor='none',boxstyle='square,pad=0.1')) # remittance data points\n",
    "    ax.legend(wedges, ['no','yes'], title='Remittance', loc=\"upper left\", title_fontsize=16, fontsize=20) # create legend for remittance data\n",
    "    fig.savefig(dir_fig+'CHIRPS_drought_'+str(period_year0[pp])+'-'+str(period_year1[pp])+'_'+dims[dd]+'_'+str(pxx_list[xx])+ # save separate figure for each dimension\n",
    "                '_percentile_events_w_'+str(survey_year)+'remittance_BurkinaFaso_admlevel'+str(adm)+'_levels.png')\n"
   ]
  },
  {
   "cell_type": "markdown",
   "id": "41c8bb1a-c98c-46ee-9782-30b3402bffe4",
   "metadata": {
    "jp-MarkdownHeadingCollapsed": true,
    "tags": []
   },
   "source": [
    "#### Plotting inset scatterplots for Figure 3"
   ]
  },
  {
   "cell_type": "markdown",
   "id": "f78d08ce-417c-43bb-8e7f-2680af6fca3a",
   "metadata": {},
   "source": [
    "Calculate regional averages of climate characteristics"
   ]
  },
  {
   "cell_type": "code",
   "execution_count": null,
   "id": "16e25c27-5252-45fe-bd0c-9fd54a912971",
   "metadata": {},
   "outputs": [],
   "source": [
    "remit1_df = n_remit_df[n_remit_df['remit']==1].reset_index()\n",
    "nregions = len(adm_regions.names)\n",
    "dims_regions_avg_df = pd.DataFrame({'names':adm_regions.names*nperiods})\n",
    "dims_regions_avg_df['period'] = ''\n",
    "for dd in range(0,len(dims),1):\n",
    "    # print(dims[dd]) # uncomment to print out loop progress\n",
    "    dims_regions_avg_df[dims[dd]+'_avg'] = ''\n",
    "    for pp in range(0,nperiods,1):\n",
    "        dims_regions_avg_df.period[pp*nregions:(pp+1)*nregions] = pp\n",
    "        dim_dd = eval('period_drought_'+dims[dd]+'[pp,:,:]')    \n",
    "        for rr in range(0,n_adms,1):\n",
    "            dims_regions_avg_df[dims[dd]+'_avg'][rr+(nregions*pp)] = np.ma.mean(dim_dd[adm_mask==rr])"
   ]
  },
  {
   "cell_type": "markdown",
   "id": "bc4bc97e-06b5-484c-99bd-fc7990b1982d",
   "metadata": {},
   "source": [
    "Merge remittance dataframe with climate characteristics dataframe for regions"
   ]
  },
  {
   "cell_type": "code",
   "execution_count": null,
   "id": "0a962ef2-cbe8-49ba-8dd2-ad3e4a8598fb",
   "metadata": {},
   "outputs": [],
   "source": [
    "perc1_df = n_remit_df[(n_remit_df['remit']==1)]\n",
    "dims_remit_df = pd.merge(dims_regions_avg_df,perc1_df, right_on = 'region', left_on = 'names').drop(columns=['region','remit'])"
   ]
  },
  {
   "cell_type": "markdown",
   "id": "f89e38f9-3deb-4ff9-8530-adaa3e8872ba",
   "metadata": {},
   "source": [
    "Plot scatterplots for each climate characteristic against remittance percentages for different periods"
   ]
  },
  {
   "cell_type": "code",
   "execution_count": null,
   "id": "ec256589-cc74-494c-804f-0971e1dee2aa",
   "metadata": {},
   "outputs": [],
   "source": [
    "for dd in range(0,len(dims),1):\n",
    "    fig, ax = plt.subplots(figsize=(5,5))\n",
    "    sns.set_palette(sns.color_palette(['black','gray'])) # add colors for more periods\n",
    "    #dims_remit_df.plot.scatter('percent',dims[dd]+'_avg', color='black',s=180, ax=ax)\n",
    "    sns.scatterplot(data=dims_remit_df, x='percent', y=dims[dd]+'_avg',hue='period',s=180,style='period',ax=ax,legend=False)\n",
    "    ax.set_ylabel('') #dims_long[dd], fontsize=24)\n",
    "    ax.set_xlabel('') #'percent remittance', fontsize=24)\n",
    "    ax.set_title(dims_long[dd],fontsize=20)\n",
    "    ax.tick_params(axis='both', which='major', labelsize=18)\n",
    "    fig.savefig(dir_fig+dims[dd]+'_v_remittance_perc_scatter_regions.png')"
   ]
  }
 ],
 "metadata": {
  "kernelspec": {
   "display_name": "my-kernel",
   "language": "python",
   "name": "my-kernel"
  },
  "language_info": {
   "codemirror_mode": {
    "name": "ipython",
    "version": 3
   },
   "file_extension": ".py",
   "mimetype": "text/x-python",
   "name": "python",
   "nbconvert_exporter": "python",
   "pygments_lexer": "ipython3",
   "version": "3.7.12"
  }
 },
 "nbformat": 4,
 "nbformat_minor": 5
}
