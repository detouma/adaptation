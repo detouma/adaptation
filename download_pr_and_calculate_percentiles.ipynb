{
 "cells": [
  {
   "cell_type": "markdown",
   "id": "a7973c4b-9854-440d-9ba7-ec94fa1f3ed6",
   "metadata": {},
   "source": [
    "This script download CHIRPS data and calculates the monthly thresholds for CHIRPS precipitation data. It can be adapted to any other monthly precipitation dataset.<br>\n",
    "Script by Danielle Touma (detouma@ucar.edu)."
   ]
  },
  {
   "cell_type": "markdown",
   "id": "c5a544f7-bd4d-4cd1-8d06-c79ec80a1c7d",
   "metadata": {},
   "source": [
    "## Set up"
   ]
  },
  {
   "cell_type": "markdown",
   "id": "d90846ee-a4b8-4fb4-9eef-85f72f87c69e",
   "metadata": {},
   "source": [
    "### Import libraries/packages"
   ]
  },
  {
   "cell_type": "code",
   "execution_count": 1,
   "id": "0159f836-639b-4aec-8963-860bc476f7d9",
   "metadata": {},
   "outputs": [],
   "source": [
    "import numpy as np\n",
    "import scipy.stats as st\n",
    "import netCDF4\n",
    "from netCDF4 import Dataset \n",
    "import calendar as cd\n",
    "from calendar import monthrange\n",
    "import glob\n",
    "import sys\n",
    "import urllib"
   ]
  },
  {
   "cell_type": "markdown",
   "id": "295a4400-9071-4ae0-b9b8-af039b74e22e",
   "metadata": {},
   "source": [
    "### Specify directories for file reading and writing"
   ]
  },
  {
   "cell_type": "code",
   "execution_count": 2,
   "id": "b2886005-1bfb-4224-9d31-dd9f74f7cca4",
   "metadata": {},
   "outputs": [],
   "source": [
    "dir_pxx = \"/glade/scratch/detouma/adaptation/CHIRPS_monthly_pr/\"\n",
    "dir_pr = \"/glade/scratch/detouma/adaptation/CHIRPS_monthly_pr/\""
   ]
  },
  {
   "cell_type": "markdown",
   "id": "89f1f7d3-798c-4075-9a31-e9121c4bb4b6",
   "metadata": {},
   "source": [
    "### Download CHIRPS dataset"
   ]
  },
  {
   "cell_type": "code",
   "execution_count": 3,
   "id": "365b5505-b141-4510-ad6d-7f9f8683c90c",
   "metadata": {},
   "outputs": [
    {
     "data": {
      "text/plain": [
       "('/glade/scratch/detouma/adaptation/CHIRPS_monthly_pr/chirps_monthly_dataset.nc',\n",
       " <http.client.HTTPMessage at 0x2b097b9adeb0>)"
      ]
     },
     "execution_count": 3,
     "metadata": {},
     "output_type": "execute_result"
    }
   ],
   "source": [
    "# can take ~10 minutes\n",
    "chirps_out = dir_pr+'chirps_monthly_dataset.nc'\n",
    "chirps_url = 'https://data.chc.ucsb.edu/products/CHIRPS-2.0/global_monthly/netcdf/chirps-v2.0.monthly.nc'\n",
    "urllib.request.urlretrieve(chirps_url,chirps_out)"
   ]
  },
  {
   "cell_type": "markdown",
   "id": "e6c2b42a-e579-4624-9551-476a4468c24d",
   "metadata": {},
   "source": [
    "### Specify percentile thresholds of interest"
   ]
  },
  {
   "cell_type": "code",
   "execution_count": 4,
   "id": "850128e5-460b-4fca-aef2-0ee95ed34924",
   "metadata": {},
   "outputs": [],
   "source": [
    "pxx_list = [2,5,10,20,90,95,99]\n",
    "npxx = len(pxx_list)"
   ]
  },
  {
   "cell_type": "markdown",
   "id": "f7affdf1-44a7-47f8-b7c3-543e5f7831e1",
   "metadata": {},
   "source": [
    "### Variable initialization"
   ]
  },
  {
   "cell_type": "code",
   "execution_count": 5,
   "id": "c53d5116-f4b4-4be5-9024-fb125da932a4",
   "metadata": {},
   "outputs": [],
   "source": [
    "# Variable initialization\n",
    "year0 = 1981\n",
    "year1 = 2021\n",
    "years = np.arange(year0,(year1+1),1)\n",
    "nyears = len(years)\n",
    "nmonths = nyears*12"
   ]
  },
  {
   "cell_type": "markdown",
   "id": "47abb517-0e18-430b-bda7-e0cc6b54f471",
   "metadata": {},
   "source": [
    "### Read in monthly precipitation file and subset"
   ]
  },
  {
   "cell_type": "code",
   "execution_count": 6,
   "id": "c3bc0efb-54c8-407d-ae99-204e28d1c3f9",
   "metadata": {},
   "outputs": [],
   "source": [
    "file_in = chirps_out\n",
    "nc_in = Dataset(file_in,'r')\n",
    "ntime = nc_in.dimensions['time'].size\n",
    "lat0 = nc_in.variables['latitude'][:]\n",
    "lon0 = nc_in.variables['longitude'][:]\n",
    "lat_units = nc_in.variables['latitude'].units\n",
    "lon_units = nc_in.variables['longitude'].units\n",
    "\n",
    "lat_inds = np.where((lat0>=-40)&(lat0<=40))[0]\n",
    "lon_inds = np.where((lon0>=-20)&(lon0<=60))[0]\n",
    "lat = lat0[lat_inds]\n",
    "lon = lon0[lon_inds]\n",
    "nlat = len(lat)\n",
    "nlon = len(lon)\n",
    "\n",
    "precip_month0 = nc_in.variables['precip'][0:nmonths,lat_inds,lon_inds] \n",
    "precip_month = np.reshape(precip_month0,newshape=(int(nmonths/12),12,nlat,nlon))"
   ]
  },
  {
   "cell_type": "markdown",
   "id": "7be163e9-2d06-44f2-a4e8-fd4f5fc9677d",
   "metadata": {},
   "source": [
    "## Processing"
   ]
  },
  {
   "cell_type": "markdown",
   "id": "b529cdde-8d41-466f-99ac-bc61f169ddac",
   "metadata": {},
   "source": [
    "### Calculate percentile per month"
   ]
  },
  {
   "cell_type": "code",
   "execution_count": 7,
   "id": "ff15901c-38f6-42f9-add5-1296c76f7991",
   "metadata": {},
   "outputs": [
    {
     "name": "stderr",
     "output_type": "stream",
     "text": [
      "/glade/u/apps/opt/conda/envs/npl/lib/python3.8/site-packages/numpy/lib/function_base.py:4691: UserWarning: Warning: 'partition' will ignore the 'mask' of the MaskedArray.\n",
      "  arr.partition(\n"
     ]
    }
   ],
   "source": [
    "pxx_month = np.percentile(precip_month,pxx_list,axis=0)"
   ]
  },
  {
   "cell_type": "code",
   "execution_count": 8,
   "id": "1187c52d-dd50-4b9b-b1e2-cb9af0cde7e5",
   "metadata": {},
   "outputs": [],
   "source": [
    "#mask missing values\n",
    "pxx_month = np.ma.masked_array(pxx_month,mask=(pxx_month<0))"
   ]
  },
  {
   "cell_type": "markdown",
   "id": "8d9792bd-4bb0-4534-82f2-9f6ae5710669",
   "metadata": {},
   "source": [
    "## Output"
   ]
  },
  {
   "cell_type": "markdown",
   "id": "2344dae9-8455-4447-b507-38e05261fb29",
   "metadata": {},
   "source": [
    "### Write percentiles file"
   ]
  },
  {
   "cell_type": "code",
   "execution_count": 9,
   "id": "f5a81d52-5059-4906-b543-7e201d890e36",
   "metadata": {},
   "outputs": [],
   "source": [
    "file_out = dir_pxx+'CHIRPS_'+str(year0)+'-'+str(year1)+'_pr_monthly_percentiles_africa.nc'\n",
    "nc_out = Dataset(file_out,'w',format='NETCDF4')\n",
    "nc_out.description = 'percentiles of CHIRPS monthly precipitation ' + str(year0) + ' to ' + str(year1)\n",
    "nc_out.createDimension('month',12)\n",
    "nc_out.createDimension('pxx',npxx)\n",
    "nc_out.createDimension('lat',nlat)\n",
    "nc_out.createDimension('lon',nlon)\n",
    "nc_out.createVariable('pxx',lat.dtype,('pxx',))\n",
    "nc_out.createVariable('lat',lat.dtype,('lat',))\n",
    "nc_out.createVariable('lon',lon.dtype,('lon',))\n",
    "nc_out.createVariable('pr',pxx_month.dtype,('pxx','month','lat','lon'))\n",
    "nc_out.variables['pxx'][:] = np.array(pxx_list)\n",
    "nc_out.variables['lat'][:] = lat\n",
    "nc_out.variables['lon'][:] = lon\n",
    "nc_out.variables['pr'][:] = pxx_month\n",
    "nc_out.variables['lat'].units = lat_units \n",
    "nc_out.variables['lon'].units = lon_units \n",
    "nc_out.variables['pr'].units = 'mm/month' \n",
    "nc_out.close()"
   ]
  }
 ],
 "metadata": {
  "kernelspec": {
   "display_name": "NPL (conda)",
   "language": "python",
   "name": "npl-conda"
  },
  "language_info": {
   "codemirror_mode": {
    "name": "ipython",
    "version": 3
   },
   "file_extension": ".py",
   "mimetype": "text/x-python",
   "name": "python",
   "nbconvert_exporter": "python",
   "pygments_lexer": "ipython3",
   "version": "3.8.13"
  }
 },
 "nbformat": 4,
 "nbformat_minor": 5
}
